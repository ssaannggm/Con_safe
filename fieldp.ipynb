{
 "cells": [
  {
   "cell_type": "code",
   "execution_count": 3,
   "metadata": {},
   "outputs": [
    {
     "data": {
      "text/plain": [
       "True"
      ]
     },
     "execution_count": 3,
     "metadata": {},
     "output_type": "execute_result"
    }
   ],
   "source": [
    "from pyhwpx import Hwp\n",
    "\n",
    "hwp = Hwp()\n",
    "hwp.open(r\"C:\\Users\\codek\\Desktop\\샘플.hwp\")\n",
    "\n",
    "hwp.MoveDocBegin()"
   ]
  },
  {
   "cell_type": "code",
   "execution_count": 20,
   "metadata": {},
   "outputs": [
    {
     "name": "stdout",
     "output_type": "stream",
     "text": [
      "['셀필드1', '셀필드1', '셀필드2', '셀필드3', '셀필드1', '필드1', '필드2', '셀필드1', '공사명', '본사_주소', '본사_연락처', '현장_주소', '현장_연락처', '발주자', '발주자_분야/직급', '발주자_성명', '발주자_연락처', '인허가기관_소속', '현장대리인_소속', '현장대리인_직급', '현장대리인_성명', '현장대리인_연락처', '안전관리자_소속', '안전관리자_직급', '안전관리자_성명', '안전관리자_연락처', '보건관리자_소속', '보건관리자_직급', '보건관리자_성명', '보건관리자_연락처', '건축관리자_소속', '건축관리자_직급', '건축관리자_성명', '건축관리자_연락처', '토목관리자_소속', '토목관리자_직급', '토목관리자_성명', '토목관리자_연락처', '전기관리자_소속', '전기관리자_직급', '전기관리자_성명', '전기관리자_연락처', '기계관리자_소속', '기계관리자_직급', '기계관리자_성명', '기계관리자_연락처', '현장대리인_성명', '현장대리인_연락처', '안전관리자_성명', '안전관리자_연락처', '보건관리자_성명', '보건관리자_연락처', '건축관리자_성명', '토목관리자_성명', '전기관리자_성명', '기계관리자_성명', '건축관리자_연락처', '토목관리자_연락처', '전기관리자_연락처', '기계관리자_연락처']\n"
     ]
    }
   ],
   "source": [
    "#hwp.fields_to_dict()\n",
    "field_list = hwp.get_field_list(0).split('\\x02')\n",
    "print(field_list)"
   ]
  },
  {
   "cell_type": "code",
   "execution_count": 22,
   "metadata": {},
   "outputs": [
    {
     "name": "stdout",
     "output_type": "stream",
     "text": [
      "fields.xlsx 파일로 저장 완료!\n"
     ]
    }
   ],
   "source": [
    "import pandas as pd\n",
    "\n",
    "# 중복 제거\n",
    "unique_field_list = list(set(field_list))\n",
    "\n",
    "# 데이터프레임 생성\n",
    "df = pd.DataFrame(unique_field_list, columns=[\"Fields\"])\n",
    "\n",
    "# 엑셀로 저장\n",
    "df.to_excel(\"fields.xlsx\", index=False)\n",
    "\n",
    "print(\"fields.xlsx 파일로 저장 완료!\")"
   ]
  },
  {
   "cell_type": "code",
   "execution_count": 27,
   "metadata": {},
   "outputs": [
    {
     "ename": "NameError",
     "evalue": "name 'Border' is not defined",
     "output_type": "error",
     "traceback": [
      "\u001b[1;31m---------------------------------------------------------------------------\u001b[0m",
      "\u001b[1;31mNameError\u001b[0m                                 Traceback (most recent call last)",
      "Cell \u001b[1;32mIn[27], line 29\u001b[0m\n\u001b[0;32m     26\u001b[0m ws\u001b[38;5;241m.\u001b[39mcolumn_dimensions[\u001b[38;5;124m'\u001b[39m\u001b[38;5;124mB\u001b[39m\u001b[38;5;124m'\u001b[39m]\u001b[38;5;241m.\u001b[39mwidth \u001b[38;5;241m=\u001b[39m \u001b[38;5;241m25\u001b[39m\n\u001b[0;32m     28\u001b[0m \u001b[38;5;66;03m# 테두리 스타일 정의\u001b[39;00m\n\u001b[1;32m---> 29\u001b[0m thin_border \u001b[38;5;241m=\u001b[39m \u001b[43mBorder\u001b[49m(\n\u001b[0;32m     30\u001b[0m     left\u001b[38;5;241m=\u001b[39mSide(style\u001b[38;5;241m=\u001b[39m\u001b[38;5;124m\"\u001b[39m\u001b[38;5;124mthin\u001b[39m\u001b[38;5;124m\"\u001b[39m),\n\u001b[0;32m     31\u001b[0m     right\u001b[38;5;241m=\u001b[39mSide(style\u001b[38;5;241m=\u001b[39m\u001b[38;5;124m\"\u001b[39m\u001b[38;5;124mthin\u001b[39m\u001b[38;5;124m\"\u001b[39m),\n\u001b[0;32m     32\u001b[0m     top\u001b[38;5;241m=\u001b[39mSide(style\u001b[38;5;241m=\u001b[39m\u001b[38;5;124m\"\u001b[39m\u001b[38;5;124mthin\u001b[39m\u001b[38;5;124m\"\u001b[39m),\n\u001b[0;32m     33\u001b[0m     bottom\u001b[38;5;241m=\u001b[39mSide(style\u001b[38;5;241m=\u001b[39m\u001b[38;5;124m\"\u001b[39m\u001b[38;5;124mthin\u001b[39m\u001b[38;5;124m\"\u001b[39m)\n\u001b[0;32m     34\u001b[0m )\n\u001b[0;32m     36\u001b[0m \u001b[38;5;66;03m# 내용이 있는 모든 셀에 테두리 추가\u001b[39;00m\n\u001b[0;32m     37\u001b[0m \u001b[38;5;28;01mfor\u001b[39;00m row \u001b[38;5;129;01min\u001b[39;00m ws\u001b[38;5;241m.\u001b[39miter_rows(min_row\u001b[38;5;241m=\u001b[39m\u001b[38;5;241m1\u001b[39m, max_row\u001b[38;5;241m=\u001b[39m\u001b[38;5;28mlen\u001b[39m(unique_field_list) \u001b[38;5;241m+\u001b[39m \u001b[38;5;241m1\u001b[39m, min_col\u001b[38;5;241m=\u001b[39m\u001b[38;5;241m1\u001b[39m, max_col\u001b[38;5;241m=\u001b[39m\u001b[38;5;241m2\u001b[39m):\n",
      "\u001b[1;31mNameError\u001b[0m: name 'Border' is not defined"
     ]
    }
   ],
   "source": [
    "from openpyxl import Workbook\n",
    "from openpyxl.styles import PatternFill\n",
    "\n",
    "# 중복 제거\n",
    "unique_field_list = list(set(field_list))\n",
    "\n",
    "# 엑셀 파일 생성\n",
    "wb = Workbook()\n",
    "ws = wb.active\n",
    "ws.title = \"Fields Data\"\n",
    "\n",
    "# 첫 번째 행에 제목 추가\n",
    "ws.append([\"Fields\", \"내용\"])  # A1 = \"Fields\", B1 = \"내용\"\n",
    "\n",
    "# 나머지 데이터를 A열에 추가\n",
    "for field in unique_field_list:\n",
    "    ws.append([field])  # 데이터는 A열에 추가됨\n",
    "\n",
    "# 1행 배경색 설정 (회색)\n",
    "gray_fill = PatternFill(start_color=\"D3D3D3\", end_color=\"D3D3D3\", fill_type=\"solid\")\n",
    "ws[\"A1\"].fill = gray_fill\n",
    "ws[\"B1\"].fill = gray_fill\n",
    "\n",
    "# 열 너비 설정 (약 220픽셀에 해당)\n",
    "ws.column_dimensions['A'].width = 25\n",
    "ws.column_dimensions['B'].width = 25\n",
    "\n",
    "\n",
    "# 사용자로부터 파일 이름 입력받기\n",
    "file_name = 'fields'\n",
    "# 파일 저장 (확장자 자동 추가)\n",
    "if not file_name.endswith(\".xlsx\"):\n",
    "    file_name += \".xlsx\"\n",
    "\n",
    "wb.save(file_name)\n",
    "\n",
    "print(f\"{file_name} 파일이 저장되었습니다!\")"
   ]
  }
 ],
 "metadata": {
  "kernelspec": {
   "display_name": "Python 3",
   "language": "python",
   "name": "python3"
  },
  "language_info": {
   "codemirror_mode": {
    "name": "ipython",
    "version": 3
   },
   "file_extension": ".py",
   "mimetype": "text/x-python",
   "name": "python",
   "nbconvert_exporter": "python",
   "pygments_lexer": "ipython3",
   "version": "3.11.9"
  }
 },
 "nbformat": 4,
 "nbformat_minor": 2
}
